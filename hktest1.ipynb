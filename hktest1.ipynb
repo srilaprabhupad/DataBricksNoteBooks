{
  "nbformat": 4,
  "nbformat_minor": 0,
  "metadata": {
    "colab": {
      "provenance": [],
      "toc_visible": true,
      "authorship_tag": "ABX9TyPpuZ+gIVpo8KkNppDgQYJS",
      "include_colab_link": true
    },
    "kernelspec": {
      "name": "python3",
      "display_name": "Python 3"
    },
    "language_info": {
      "name": "python"
    }
  },
  "cells": [
    {
      "cell_type": "markdown",
      "metadata": {
        "id": "view-in-github",
        "colab_type": "text"
      },
      "source": [
        "<a href=\"https://colab.research.google.com/github/srilaprabhupad/DataBricksNoteBooks/blob/master/hktest1.ipynb\" target=\"_parent\"><img src=\"https://colab.research.google.com/assets/colab-badge.svg\" alt=\"Open In Colab\"/></a>"
      ]
    },
    {
      "cell_type": "markdown",
      "source": [
        "HAREKRISHNA"
      ],
      "metadata": {
        "id": "lP_o5iqwam1t"
      }
    },
    {
      "cell_type": "code",
      "execution_count": 1,
      "metadata": {
        "colab": {
          "base_uri": "https://localhost:8080/"
        },
        "id": "lhcVTg8oaWf5",
        "outputId": "469587bf-3dd8-475a-8526-4e393c73f906"
      },
      "outputs": [
        {
          "output_type": "stream",
          "name": "stdout",
          "text": [
            "harekrishna Jai Srila Prabhupad\n"
          ]
        }
      ],
      "source": [
        "print(\"harekrishna Jai Srila Prabhupad\")"
      ]
    }
  ]
}